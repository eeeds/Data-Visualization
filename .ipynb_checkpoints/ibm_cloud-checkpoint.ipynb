{
 "cells": [
  {
   "cell_type": "code",
   "execution_count": 6,
   "id": "db383ae5",
   "metadata": {},
   "outputs": [],
   "source": [
    "import ibm_db"
   ]
  },
  {
   "cell_type": "code",
   "execution_count": 7,
   "id": "0925a318",
   "metadata": {},
   "outputs": [],
   "source": [
    "#Credentials\n",
    "dsn_hostname = \"dashdb-txn-sbox-yp-dal09-08.services.dal.bluemix.net\" \n",
    "dsn_uid = \"cbn72876\"        \n",
    "dsn_pwd = \"8cchf-g04mvsft51\"    \n",
    "\n",
    "dsn_driver = \"{IBM DB2 ODBC DRIVER}\"\n",
    "dsn_database = \"BLUDB\"           \n",
    "dsn_port = \"50000\"                \n",
    "dsn_protocol = \"TCPIP\"     "
   ]
  },
  {
   "cell_type": "code",
   "execution_count": 8,
   "id": "25e091bd",
   "metadata": {},
   "outputs": [],
   "source": [
    "#Create the dsn connection string\n",
    "dsn = (\n",
    "    \"DRIVER={0};\"\n",
    "    \"DATABASE={1};\"\n",
    "    \"HOSTNAME={2};\"\n",
    "    \"PORT={3};\"\n",
    "    \"PROTOCOL={4};\"\n",
    "    \"UID={5};\"\n",
    "    \"PWD={6};\").format(dsn_driver, dsn_database, dsn_hostname, dsn_port, dsn_protocol, dsn_uid, dsn_pwd)"
   ]
  },
  {
   "cell_type": "code",
   "execution_count": 9,
   "id": "fab94416",
   "metadata": {},
   "outputs": [
    {
     "name": "stdout",
     "output_type": "stream",
     "text": [
      "DRIVER={IBM DB2 ODBC DRIVER};DATABASE=BLUDB;HOSTNAME=dashdb-txn-sbox-yp-dal09-08.services.dal.bluemix.net;PORT=50000;PROTOCOL=TCPIP;UID=cbn72876;PWD=8cchf-g04mvsft51;\n"
     ]
    }
   ],
   "source": [
    "print(dsn)"
   ]
  },
  {
   "cell_type": "code",
   "execution_count": 10,
   "id": "b1957c85",
   "metadata": {},
   "outputs": [
    {
     "name": "stdout",
     "output_type": "stream",
     "text": [
      "Connected to database:  BLUDB as user:  cbn72876 on host:  dashdb-txn-sbox-yp-dal09-08.services.dal.bluemix.net\n"
     ]
    }
   ],
   "source": [
    "#Conecction\n",
    "\n",
    "try:\n",
    "    conn = ibm_db.connect(dsn, \"\", \"\")\n",
    "    print (\"Connected to database: \", dsn_database, \"as user: \", dsn_uid, \"on host: \", dsn_hostname)\n",
    "\n",
    "except:\n",
    "    print (\"Unable to connect: \", ibm_db.conn_errormsg() )"
   ]
  },
  {
   "cell_type": "code",
   "execution_count": 11,
   "id": "a02c54c5",
   "metadata": {},
   "outputs": [
    {
     "name": "stdout",
     "output_type": "stream",
     "text": [
      "DBMS_NAME:  DB2/LINUXX8664\n",
      "DBMS_VER:   11.01.0404\n",
      "DB_NAME:    BLUDB\n"
     ]
    }
   ],
   "source": [
    "#Retrieve Metadata for the Database Server\n",
    "server = ibm_db.server_info(conn)\n",
    "\n",
    "print (\"DBMS_NAME: \", server.DBMS_NAME)\n",
    "print (\"DBMS_VER:  \", server.DBMS_VER)\n",
    "print (\"DB_NAME:   \", server.DB_NAME)"
   ]
  },
  {
   "cell_type": "code",
   "execution_count": 12,
   "id": "b03edf76",
   "metadata": {},
   "outputs": [
    {
     "name": "stdout",
     "output_type": "stream",
     "text": [
      "DRIVER_NAME:           DB2CLI.DLL\n",
      "DRIVER_VER:            11.05.0500\n",
      "DATA_SOURCE_NAME:      BLUDB\n",
      "DRIVER_ODBC_VER:       03.51\n",
      "ODBC_VER:              03.01.0000\n",
      "ODBC_SQL_CONFORMANCE:  EXTENDED\n",
      "APPL_CODEPAGE:         1252\n",
      "CONN_CODEPAGE:         1208\n"
     ]
    }
   ],
   "source": [
    "#Retrieve Metadata for the Database Client / Driver\n",
    "client = ibm_db.client_info(conn)\n",
    "\n",
    "print (\"DRIVER_NAME:          \", client.DRIVER_NAME) \n",
    "print (\"DRIVER_VER:           \", client.DRIVER_VER)\n",
    "print (\"DATA_SOURCE_NAME:     \", client.DATA_SOURCE_NAME)\n",
    "print (\"DRIVER_ODBC_VER:      \", client.DRIVER_ODBC_VER)\n",
    "print (\"ODBC_VER:             \", client.ODBC_VER)\n",
    "print (\"ODBC_SQL_CONFORMANCE: \", client.ODBC_SQL_CONFORMANCE)\n",
    "print (\"APPL_CODEPAGE:        \", client.APPL_CODEPAGE)\n",
    "print (\"CONN_CODEPAGE:        \", client.CONN_CODEPAGE)"
   ]
  },
  {
   "cell_type": "code",
   "execution_count": 15,
   "id": "66156163",
   "metadata": {},
   "outputs": [],
   "source": [
    "stmt = ibm_db.exec_immediate(conn, \"\"\"CREATE TABLE Trucks(serial_no varchar(20) PRIMARY KEY NOT NULL,\n",
    "                            model VARCHAR(20) NOT NULL,\n",
    "                            manufacturer VARCHAR(20) NOT NULL,\n",
    "                            Engine_size VARCHAR(20) NOT NULL,\n",
    "                            Truck_Class VARCHAR(20) NOT NULL)\"\"\")"
   ]
  },
  {
   "cell_type": "code",
   "execution_count": 17,
   "id": "fc6052d0",
   "metadata": {},
   "outputs": [],
   "source": [
    "stmt = ibm_db.exec_immediate(conn, \n",
    "\"\"\"INSERT INTO Trucks(serial_no, model, manufacturer, Engine_size, Truck_Class)\n",
    "VALUES ('A1234', 'Lonestar', 'Internacional Trucks', 'Cummins ISX15','Class 8' );\n",
    "\"\"\")"
   ]
  },
  {
   "cell_type": "code",
   "execution_count": 18,
   "id": "ce66dfe7",
   "metadata": {},
   "outputs": [],
   "source": [
    "stmt = ibm_db.exec_immediate(conn, \n",
    "\"\"\"INSERT INTO Trucks(serial_no, model, manufacturer, Engine_size, Truck_Class)\n",
    "VALUES ('B5432', 'Volvo VN', 'Volvo Trucks', 'Volvo D11','Heavy Duty Class 8' );\n",
    "\"\"\")"
   ]
  },
  {
   "cell_type": "code",
   "execution_count": 19,
   "id": "9589f55e",
   "metadata": {},
   "outputs": [],
   "source": [
    "stmt = ibm_db.exec_immediate(conn, \n",
    "\"\"\"INSERT INTO Trucks(serial_no, model, manufacturer, Engine_size, Truck_Class)\n",
    "VALUES ('C5674', 'Kenworth W900', 'Kenworth Truck Co', 'Caterpillar C9','Class 8' );\n",
    "\"\"\")"
   ]
  },
  {
   "cell_type": "code",
   "execution_count": 21,
   "id": "4d21cd81",
   "metadata": {},
   "outputs": [
    {
     "data": {
      "text/plain": [
       "{'SERIAL_NO': 'A1234',\n",
       " 0: 'A1234',\n",
       " 'MODEL': 'Lonestar',\n",
       " 1: 'Lonestar',\n",
       " 'MANUFACTURER': 'Internacional Trucks',\n",
       " 2: 'Internacional Trucks',\n",
       " 'ENGINE_SIZE': 'Cummins ISX15',\n",
       " 3: 'Cummins ISX15',\n",
       " 'TRUCK_CLASS': 'Class 8',\n",
       " 4: 'Class 8'}"
      ]
     },
     "execution_count": 21,
     "metadata": {},
     "output_type": "execute_result"
    }
   ],
   "source": [
    "#SELECT ALL\n",
    "\n",
    "stmt = ibm_db.exec_immediate(conn, \"SELECT * FROM Trucks\")\n",
    "\n",
    "ibm_db.fetch_both(stmt)"
   ]
  },
  {
   "cell_type": "code",
   "execution_count": null,
   "id": "1da23375",
   "metadata": {},
   "outputs": [],
   "source": []
  }
 ],
 "metadata": {
  "kernelspec": {
   "display_name": "Python 3",
   "language": "python",
   "name": "python3"
  },
  "language_info": {
   "codemirror_mode": {
    "name": "ipython",
    "version": 3
   },
   "file_extension": ".py",
   "mimetype": "text/x-python",
   "name": "python",
   "nbconvert_exporter": "python",
   "pygments_lexer": "ipython3",
   "version": "3.7.10"
  }
 },
 "nbformat": 4,
 "nbformat_minor": 5
}
